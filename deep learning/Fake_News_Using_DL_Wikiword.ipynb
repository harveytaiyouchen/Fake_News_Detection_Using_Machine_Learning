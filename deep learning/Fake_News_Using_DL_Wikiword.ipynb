{
 "cells": [
  {
   "cell_type": "code",
   "execution_count": 1,
   "metadata": {
    "colab": {
     "base_uri": "https://localhost:8080/",
     "height": 338
    },
    "id": "UzexMQAlpPhX",
    "outputId": "507dff0b-6597-4c5d-bf65-7dc29c44fde3"
   },
   "outputs": [
    {
     "name": "stderr",
     "output_type": "stream",
     "text": [
      "[nltk_data] Downloading package stopwords to\n",
      "[nltk_data]     /Users/sarangshaikh/nltk_data...\n",
      "[nltk_data]   Package stopwords is already up-to-date!\n",
      "[nltk_data] Downloading package wordnet to\n",
      "[nltk_data]     /Users/sarangshaikh/nltk_data...\n",
      "[nltk_data]   Package wordnet is already up-to-date!\n"
     ]
    },
    {
     "name": "stdout",
     "output_type": "stream",
     "text": [
      "Requirement already satisfied: mlxtend in /Users/sarangshaikh/opt/anaconda3/envs/webapp1/lib/python3.6/site-packages (0.17.3)\n",
      "Requirement already satisfied: matplotlib>=3.0.0 in /Users/sarangshaikh/opt/anaconda3/envs/webapp1/lib/python3.6/site-packages (from mlxtend) (3.3.2)\n",
      "Requirement already satisfied: scipy>=1.2.1 in /Users/sarangshaikh/opt/anaconda3/envs/webapp1/lib/python3.6/site-packages (from mlxtend) (1.5.4)\n",
      "Requirement already satisfied: scikit-learn>=0.20.3 in /Users/sarangshaikh/opt/anaconda3/envs/webapp1/lib/python3.6/site-packages (from mlxtend) (0.23.2)\n",
      "Requirement already satisfied: numpy>=1.16.2 in /Users/sarangshaikh/opt/anaconda3/envs/webapp1/lib/python3.6/site-packages (from mlxtend) (1.19.4)\n",
      "Requirement already satisfied: pandas>=0.24.2 in /Users/sarangshaikh/opt/anaconda3/envs/webapp1/lib/python3.6/site-packages (from mlxtend) (1.1.4)\n",
      "Requirement already satisfied: setuptools in /Users/sarangshaikh/opt/anaconda3/envs/webapp1/lib/python3.6/site-packages (from mlxtend) (50.3.0.post20201103)\n",
      "Requirement already satisfied: joblib>=0.13.2 in /Users/sarangshaikh/opt/anaconda3/envs/webapp1/lib/python3.6/site-packages (from mlxtend) (0.17.0)\n",
      "Requirement already satisfied: cycler>=0.10 in /Users/sarangshaikh/opt/anaconda3/envs/webapp1/lib/python3.6/site-packages (from matplotlib>=3.0.0->mlxtend) (0.10.0)\n",
      "Requirement already satisfied: pillow>=6.2.0 in /Users/sarangshaikh/opt/anaconda3/envs/webapp1/lib/python3.6/site-packages (from matplotlib>=3.0.0->mlxtend) (8.0.1)\n",
      "Requirement already satisfied: pyparsing!=2.0.4,!=2.1.2,!=2.1.6,>=2.0.3 in /Users/sarangshaikh/opt/anaconda3/envs/webapp1/lib/python3.6/site-packages (from matplotlib>=3.0.0->mlxtend) (2.4.7)\n",
      "Requirement already satisfied: certifi>=2020.06.20 in /Users/sarangshaikh/opt/anaconda3/envs/webapp1/lib/python3.6/site-packages (from matplotlib>=3.0.0->mlxtend) (2020.6.20)\n",
      "Requirement already satisfied: python-dateutil>=2.1 in /Users/sarangshaikh/opt/anaconda3/envs/webapp1/lib/python3.6/site-packages (from matplotlib>=3.0.0->mlxtend) (2.8.1)\n",
      "Requirement already satisfied: kiwisolver>=1.0.1 in /Users/sarangshaikh/opt/anaconda3/envs/webapp1/lib/python3.6/site-packages (from matplotlib>=3.0.0->mlxtend) (1.3.1)\n",
      "Requirement already satisfied: threadpoolctl>=2.0.0 in /Users/sarangshaikh/opt/anaconda3/envs/webapp1/lib/python3.6/site-packages (from scikit-learn>=0.20.3->mlxtend) (2.1.0)\n",
      "Requirement already satisfied: pytz>=2017.2 in /Users/sarangshaikh/opt/anaconda3/envs/webapp1/lib/python3.6/site-packages (from pandas>=0.24.2->mlxtend) (2020.4)\n",
      "Requirement already satisfied: six in /Users/sarangshaikh/opt/anaconda3/envs/webapp1/lib/python3.6/site-packages (from cycler>=0.10->matplotlib>=3.0.0->mlxtend) (1.15.0)\n"
     ]
    }
   ],
   "source": [
    "import numpy as np \n",
    "import pandas as pd \n",
    "import csv\n",
    "import re, string\n",
    "from nltk.corpus import stopwords\n",
    "import nltk\n",
    "nltk.download('stopwords')\n",
    "nltk.download('wordnet')\n",
    "import matplotlib.pyplot as plt\n",
    "%matplotlib inline\n",
    "\n",
    " \n",
    "from nltk import sent_tokenize, word_tokenize\n",
    "from nltk.corpus import wordnet\n",
    "from nltk.stem.wordnet import WordNetLemmatizer\n",
    "#!pip install wordcloud\n",
    "from wordcloud import WordCloud, STOPWORDS \n",
    "import pickle\n",
    "from sklearn import tree\n",
    "\n",
    "\n",
    "from sklearn.feature_extraction.text import CountVectorizer\n",
    "from sklearn.feature_extraction.text import TfidfTransformer\n",
    "from sklearn.model_selection import train_test_split\n",
    "from sklearn.linear_model import LogisticRegression\n",
    "from sklearn.naive_bayes import MultinomialNB,GaussianNB\n",
    "from sklearn.ensemble import RandomForestClassifier, AdaBoostClassifier\n",
    "from sklearn.neighbors import KNeighborsClassifier\n",
    "from sklearn.tree import DecisionTreeClassifier\n",
    "from sklearn.neural_network import MLPClassifier\n",
    "from sklearn.svm import SVC\n",
    "!pip install mlxtend\n",
    "from mlxtend.plotting import plot_confusion_matrix\n",
    "%matplotlib inline\n",
    "from sklearn.metrics import classification_report\n",
    "from sklearn.metrics import confusion_matrix\n",
    "\n",
    "from nltk.stem import WordNetLemmatizer \n",
    "from sklearn.ensemble import VotingClassifier\n",
    "\n",
    "\n",
    "#!pip install gensim\n",
    "import gensim\n",
    "from gensim.models import Word2Vec\n",
    "import logging\n",
    "  "
   ]
  },
  {
   "cell_type": "code",
   "execution_count": 2,
   "metadata": {
    "colab": {
     "base_uri": "https://localhost:8080/",
     "height": 572
    },
    "id": "6kw-IcMg4Ps_",
    "outputId": "866d80e4-5664-4039-c069-66751054a2c3"
   },
   "outputs": [
    {
     "data": {
      "text/html": [
       "<div>\n",
       "<style scoped>\n",
       "    .dataframe tbody tr th:only-of-type {\n",
       "        vertical-align: middle;\n",
       "    }\n",
       "\n",
       "    .dataframe tbody tr th {\n",
       "        vertical-align: top;\n",
       "    }\n",
       "\n",
       "    .dataframe thead th {\n",
       "        text-align: right;\n",
       "    }\n",
       "</style>\n",
       "<table border=\"1\" class=\"dataframe\">\n",
       "  <thead>\n",
       "    <tr style=\"text-align: right;\">\n",
       "      <th></th>\n",
       "      <th>Unnamed: 0</th>\n",
       "      <th>title</th>\n",
       "      <th>text</th>\n",
       "      <th>label</th>\n",
       "      <th>length</th>\n",
       "      <th>Text_Words</th>\n",
       "      <th>lemmed_words</th>\n",
       "      <th>processed</th>\n",
       "    </tr>\n",
       "  </thead>\n",
       "  <tbody>\n",
       "    <tr>\n",
       "      <th>0</th>\n",
       "      <td>8476</td>\n",
       "      <td>You Can Smell Hillary’s Fear</td>\n",
       "      <td>daniel greenfield shillman journalism fellow f...</td>\n",
       "      <td>FAKE</td>\n",
       "      <td>7518</td>\n",
       "      <td>['daniel', 'journalism', 'fellow', 'freedom', ...</td>\n",
       "      <td>['daniel', 'journalism', 'fellow', 'freedom', ...</td>\n",
       "      <td>daniel journalism fellow freedom center new yo...</td>\n",
       "    </tr>\n",
       "    <tr>\n",
       "      <th>1</th>\n",
       "      <td>10294</td>\n",
       "      <td>Watch The Exact Moment Paul Ryan Committed Pol...</td>\n",
       "      <td>google pinterest digg linkedin reddit stumbleu...</td>\n",
       "      <td>FAKE</td>\n",
       "      <td>2646</td>\n",
       "      <td>['google', 'print', 'delicious', 'pocket', 'th...</td>\n",
       "      <td>['google', 'print', 'delicious', 'pocket', 'th...</td>\n",
       "      <td>google print delicious pocket there two fundam...</td>\n",
       "    </tr>\n",
       "    <tr>\n",
       "      <th>2</th>\n",
       "      <td>3608</td>\n",
       "      <td>Kerry to go to Paris in gesture of sympathy</td>\n",
       "      <td>us secretary state john f kerry said monday st...</td>\n",
       "      <td>REAL</td>\n",
       "      <td>2543</td>\n",
       "      <td>['us', 'secretary', 'state', 'john', 'f', 'sai...</td>\n",
       "      <td>['u', 'secretary', 'state', 'john', 'f', 'said...</td>\n",
       "      <td>u secretary state john f said monday stop pari...</td>\n",
       "    </tr>\n",
       "    <tr>\n",
       "      <th>3</th>\n",
       "      <td>10142</td>\n",
       "      <td>Bernie supporters on Twitter erupt in anger ag...</td>\n",
       "      <td>— kaydee king kaydeeking november 9 2016 lesso...</td>\n",
       "      <td>FAKE</td>\n",
       "      <td>2660</td>\n",
       "      <td>['king', 'november', 'lesson', 'tonights', 'lo...</td>\n",
       "      <td>['king', 'november', 'lesson', 'tonight', 'los...</td>\n",
       "      <td>king november lesson tonight loss time democra...</td>\n",
       "    </tr>\n",
       "    <tr>\n",
       "      <th>4</th>\n",
       "      <td>875</td>\n",
       "      <td>The Battle of New York: Why This Primary Matters</td>\n",
       "      <td>primary day new york frontrunners hillary clin...</td>\n",
       "      <td>REAL</td>\n",
       "      <td>1840</td>\n",
       "      <td>['primary', 'day', 'new', 'york', 'hillary', '...</td>\n",
       "      <td>['primary', 'day', 'new', 'york', 'hillary', '...</td>\n",
       "      <td>primary day new york hillary clinton trump lea...</td>\n",
       "    </tr>\n",
       "    <tr>\n",
       "      <th>...</th>\n",
       "      <td>...</td>\n",
       "      <td>...</td>\n",
       "      <td>...</td>\n",
       "      <td>...</td>\n",
       "      <td>...</td>\n",
       "      <td>...</td>\n",
       "      <td>...</td>\n",
       "      <td>...</td>\n",
       "    </tr>\n",
       "    <tr>\n",
       "      <th>6329</th>\n",
       "      <td>8737</td>\n",
       "      <td>Assange claims ‘crazed’ Clinton campaign tried...</td>\n",
       "      <td>julian assange claimed hillary clinton campaig...</td>\n",
       "      <td>FAKE</td>\n",
       "      <td>2572</td>\n",
       "      <td>['julian', 'claimed', 'hillary', 'clinton', 'c...</td>\n",
       "      <td>['julian', 'claimed', 'hillary', 'clinton', 'c...</td>\n",
       "      <td>julian claimed hillary clinton campaign attack...</td>\n",
       "    </tr>\n",
       "    <tr>\n",
       "      <th>6330</th>\n",
       "      <td>4490</td>\n",
       "      <td>State Department says it can't find emails fro...</td>\n",
       "      <td>state department told republican national comm...</td>\n",
       "      <td>REAL</td>\n",
       "      <td>4076</td>\n",
       "      <td>['state', 'department', 'told', 'republican', ...</td>\n",
       "      <td>['state', 'department', 'told', 'republican', ...</td>\n",
       "      <td>state department told republican national comm...</td>\n",
       "    </tr>\n",
       "    <tr>\n",
       "      <th>6331</th>\n",
       "      <td>8062</td>\n",
       "      <td>The ‘P’ in PBS Should Stand for ‘Plutocratic’ ...</td>\n",
       "      <td>‘p’ pbs stand ‘plutocratic’ ‘pentagon’ posted ...</td>\n",
       "      <td>FAKE</td>\n",
       "      <td>14323</td>\n",
       "      <td>['p', 'pbs', 'stand', 'plutocratic', 'pentagon...</td>\n",
       "      <td>['p', 'pb', 'stand', 'plutocratic', 'pentagon'...</td>\n",
       "      <td>p pb stand plutocratic pentagon posted oct in ...</td>\n",
       "    </tr>\n",
       "    <tr>\n",
       "      <th>6332</th>\n",
       "      <td>8622</td>\n",
       "      <td>Anti-Trump Protesters Are Tools of the Oligarc...</td>\n",
       "      <td>antitrump protesters tools oligarchy reform a...</td>\n",
       "      <td>FAKE</td>\n",
       "      <td>11974</td>\n",
       "      <td>['protesters', 'tools', 'oligarchy', 'always',...</td>\n",
       "      <td>['protester', 'tool', 'oligarchy', 'always', '...</td>\n",
       "      <td>protester tool oligarchy always provokes rage ...</td>\n",
       "    </tr>\n",
       "    <tr>\n",
       "      <th>6333</th>\n",
       "      <td>4021</td>\n",
       "      <td>In Ethiopia, Obama seeks progress on peace, se...</td>\n",
       "      <td>addis ababa ethiopia —president obama convened...</td>\n",
       "      <td>REAL</td>\n",
       "      <td>6991</td>\n",
       "      <td>['ethiopia', 'convened', 'meeting', 'leaders',...</td>\n",
       "      <td>['ethiopia', 'convened', 'meeting', 'leader', ...</td>\n",
       "      <td>ethiopia convened meeting leader several east ...</td>\n",
       "    </tr>\n",
       "  </tbody>\n",
       "</table>\n",
       "<p>6334 rows × 8 columns</p>\n",
       "</div>"
      ],
      "text/plain": [
       "      Unnamed: 0                                              title  \\\n",
       "0           8476                       You Can Smell Hillary’s Fear   \n",
       "1          10294  Watch The Exact Moment Paul Ryan Committed Pol...   \n",
       "2           3608        Kerry to go to Paris in gesture of sympathy   \n",
       "3          10142  Bernie supporters on Twitter erupt in anger ag...   \n",
       "4            875   The Battle of New York: Why This Primary Matters   \n",
       "...          ...                                                ...   \n",
       "6329        8737  Assange claims ‘crazed’ Clinton campaign tried...   \n",
       "6330        4490  State Department says it can't find emails fro...   \n",
       "6331        8062  The ‘P’ in PBS Should Stand for ‘Plutocratic’ ...   \n",
       "6332        8622  Anti-Trump Protesters Are Tools of the Oligarc...   \n",
       "6333        4021  In Ethiopia, Obama seeks progress on peace, se...   \n",
       "\n",
       "                                                   text label  length  \\\n",
       "0     daniel greenfield shillman journalism fellow f...  FAKE    7518   \n",
       "1     google pinterest digg linkedin reddit stumbleu...  FAKE    2646   \n",
       "2     us secretary state john f kerry said monday st...  REAL    2543   \n",
       "3     — kaydee king kaydeeking november 9 2016 lesso...  FAKE    2660   \n",
       "4     primary day new york frontrunners hillary clin...  REAL    1840   \n",
       "...                                                 ...   ...     ...   \n",
       "6329  julian assange claimed hillary clinton campaig...  FAKE    2572   \n",
       "6330  state department told republican national comm...  REAL    4076   \n",
       "6331  ‘p’ pbs stand ‘plutocratic’ ‘pentagon’ posted ...  FAKE   14323   \n",
       "6332  antitrump protesters tools oligarchy reform a...  FAKE   11974   \n",
       "6333  addis ababa ethiopia —president obama convened...  REAL    6991   \n",
       "\n",
       "                                             Text_Words  \\\n",
       "0     ['daniel', 'journalism', 'fellow', 'freedom', ...   \n",
       "1     ['google', 'print', 'delicious', 'pocket', 'th...   \n",
       "2     ['us', 'secretary', 'state', 'john', 'f', 'sai...   \n",
       "3     ['king', 'november', 'lesson', 'tonights', 'lo...   \n",
       "4     ['primary', 'day', 'new', 'york', 'hillary', '...   \n",
       "...                                                 ...   \n",
       "6329  ['julian', 'claimed', 'hillary', 'clinton', 'c...   \n",
       "6330  ['state', 'department', 'told', 'republican', ...   \n",
       "6331  ['p', 'pbs', 'stand', 'plutocratic', 'pentagon...   \n",
       "6332  ['protesters', 'tools', 'oligarchy', 'always',...   \n",
       "6333  ['ethiopia', 'convened', 'meeting', 'leaders',...   \n",
       "\n",
       "                                           lemmed_words  \\\n",
       "0     ['daniel', 'journalism', 'fellow', 'freedom', ...   \n",
       "1     ['google', 'print', 'delicious', 'pocket', 'th...   \n",
       "2     ['u', 'secretary', 'state', 'john', 'f', 'said...   \n",
       "3     ['king', 'november', 'lesson', 'tonight', 'los...   \n",
       "4     ['primary', 'day', 'new', 'york', 'hillary', '...   \n",
       "...                                                 ...   \n",
       "6329  ['julian', 'claimed', 'hillary', 'clinton', 'c...   \n",
       "6330  ['state', 'department', 'told', 'republican', ...   \n",
       "6331  ['p', 'pb', 'stand', 'plutocratic', 'pentagon'...   \n",
       "6332  ['protester', 'tool', 'oligarchy', 'always', '...   \n",
       "6333  ['ethiopia', 'convened', 'meeting', 'leader', ...   \n",
       "\n",
       "                                              processed  \n",
       "0     daniel journalism fellow freedom center new yo...  \n",
       "1     google print delicious pocket there two fundam...  \n",
       "2     u secretary state john f said monday stop pari...  \n",
       "3     king november lesson tonight loss time democra...  \n",
       "4     primary day new york hillary clinton trump lea...  \n",
       "...                                                 ...  \n",
       "6329  julian claimed hillary clinton campaign attack...  \n",
       "6330  state department told republican national comm...  \n",
       "6331  p pb stand plutocratic pentagon posted oct in ...  \n",
       "6332  protester tool oligarchy always provokes rage ...  \n",
       "6333  ethiopia convened meeting leader several east ...  \n",
       "\n",
       "[6334 rows x 8 columns]"
      ]
     },
     "execution_count": 2,
     "metadata": {},
     "output_type": "execute_result"
    }
   ],
   "source": [
    "import pandas as pd\n",
    "data = pd.read_csv(\"fake_or_real_news_cleaned.csv\")\n",
    "data.head(-1)"
   ]
  },
  {
   "cell_type": "code",
   "execution_count": 3,
   "metadata": {
    "id": "mG9xuPo1ilII"
   },
   "outputs": [
    {
     "data": {
      "text/plain": [
       "REAL    3171\n",
       "FAKE    3164\n",
       "Name: label, dtype: int64"
      ]
     },
     "execution_count": 3,
     "metadata": {},
     "output_type": "execute_result"
    }
   ],
   "source": [
    "data['label'].value_counts()"
   ]
  },
  {
   "cell_type": "code",
   "execution_count": 4,
   "metadata": {
    "colab": {
     "base_uri": "https://localhost:8080/",
     "height": 601
    },
    "id": "NHZFaAmuIooC",
    "outputId": "76a2421e-87da-4995-b90e-1ce80f12c08f"
   },
   "outputs": [
    {
     "data": {
      "text/html": [
       "<div>\n",
       "<style scoped>\n",
       "    .dataframe tbody tr th:only-of-type {\n",
       "        vertical-align: middle;\n",
       "    }\n",
       "\n",
       "    .dataframe tbody tr th {\n",
       "        vertical-align: top;\n",
       "    }\n",
       "\n",
       "    .dataframe thead th {\n",
       "        text-align: right;\n",
       "    }\n",
       "</style>\n",
       "<table border=\"1\" class=\"dataframe\">\n",
       "  <thead>\n",
       "    <tr style=\"text-align: right;\">\n",
       "      <th></th>\n",
       "      <th>Unnamed: 0</th>\n",
       "      <th>title</th>\n",
       "      <th>text</th>\n",
       "      <th>label</th>\n",
       "      <th>length</th>\n",
       "      <th>Text_Words</th>\n",
       "      <th>lemmed_words</th>\n",
       "      <th>processed</th>\n",
       "    </tr>\n",
       "  </thead>\n",
       "  <tbody>\n",
       "    <tr>\n",
       "      <th>0</th>\n",
       "      <td>8476</td>\n",
       "      <td>You Can Smell Hillary’s Fear</td>\n",
       "      <td>daniel greenfield shillman journalism fellow f...</td>\n",
       "      <td>FAKE</td>\n",
       "      <td>7518</td>\n",
       "      <td>['daniel', 'journalism', 'fellow', 'freedom', ...</td>\n",
       "      <td>['daniel', 'journalism', 'fellow', 'freedom', ...</td>\n",
       "      <td>daniel journalism fellow freedom center new yo...</td>\n",
       "    </tr>\n",
       "    <tr>\n",
       "      <th>1</th>\n",
       "      <td>10294</td>\n",
       "      <td>Watch The Exact Moment Paul Ryan Committed Pol...</td>\n",
       "      <td>google pinterest digg linkedin reddit stumbleu...</td>\n",
       "      <td>FAKE</td>\n",
       "      <td>2646</td>\n",
       "      <td>['google', 'print', 'delicious', 'pocket', 'th...</td>\n",
       "      <td>['google', 'print', 'delicious', 'pocket', 'th...</td>\n",
       "      <td>google print delicious pocket there two fundam...</td>\n",
       "    </tr>\n",
       "    <tr>\n",
       "      <th>2</th>\n",
       "      <td>3608</td>\n",
       "      <td>Kerry to go to Paris in gesture of sympathy</td>\n",
       "      <td>us secretary state john f kerry said monday st...</td>\n",
       "      <td>REAL</td>\n",
       "      <td>2543</td>\n",
       "      <td>['us', 'secretary', 'state', 'john', 'f', 'sai...</td>\n",
       "      <td>['u', 'secretary', 'state', 'john', 'f', 'said...</td>\n",
       "      <td>u secretary state john f said monday stop pari...</td>\n",
       "    </tr>\n",
       "    <tr>\n",
       "      <th>3</th>\n",
       "      <td>10142</td>\n",
       "      <td>Bernie supporters on Twitter erupt in anger ag...</td>\n",
       "      <td>— kaydee king kaydeeking november 9 2016 lesso...</td>\n",
       "      <td>FAKE</td>\n",
       "      <td>2660</td>\n",
       "      <td>['king', 'november', 'lesson', 'tonights', 'lo...</td>\n",
       "      <td>['king', 'november', 'lesson', 'tonight', 'los...</td>\n",
       "      <td>king november lesson tonight loss time democra...</td>\n",
       "    </tr>\n",
       "    <tr>\n",
       "      <th>4</th>\n",
       "      <td>875</td>\n",
       "      <td>The Battle of New York: Why This Primary Matters</td>\n",
       "      <td>primary day new york frontrunners hillary clin...</td>\n",
       "      <td>REAL</td>\n",
       "      <td>1840</td>\n",
       "      <td>['primary', 'day', 'new', 'york', 'hillary', '...</td>\n",
       "      <td>['primary', 'day', 'new', 'york', 'hillary', '...</td>\n",
       "      <td>primary day new york hillary clinton trump lea...</td>\n",
       "    </tr>\n",
       "  </tbody>\n",
       "</table>\n",
       "</div>"
      ],
      "text/plain": [
       "   Unnamed: 0                                              title  \\\n",
       "0        8476                       You Can Smell Hillary’s Fear   \n",
       "1       10294  Watch The Exact Moment Paul Ryan Committed Pol...   \n",
       "2        3608        Kerry to go to Paris in gesture of sympathy   \n",
       "3       10142  Bernie supporters on Twitter erupt in anger ag...   \n",
       "4         875   The Battle of New York: Why This Primary Matters   \n",
       "\n",
       "                                                text label  length  \\\n",
       "0  daniel greenfield shillman journalism fellow f...  FAKE    7518   \n",
       "1  google pinterest digg linkedin reddit stumbleu...  FAKE    2646   \n",
       "2  us secretary state john f kerry said monday st...  REAL    2543   \n",
       "3  — kaydee king kaydeeking november 9 2016 lesso...  FAKE    2660   \n",
       "4  primary day new york frontrunners hillary clin...  REAL    1840   \n",
       "\n",
       "                                          Text_Words  \\\n",
       "0  ['daniel', 'journalism', 'fellow', 'freedom', ...   \n",
       "1  ['google', 'print', 'delicious', 'pocket', 'th...   \n",
       "2  ['us', 'secretary', 'state', 'john', 'f', 'sai...   \n",
       "3  ['king', 'november', 'lesson', 'tonights', 'lo...   \n",
       "4  ['primary', 'day', 'new', 'york', 'hillary', '...   \n",
       "\n",
       "                                        lemmed_words  \\\n",
       "0  ['daniel', 'journalism', 'fellow', 'freedom', ...   \n",
       "1  ['google', 'print', 'delicious', 'pocket', 'th...   \n",
       "2  ['u', 'secretary', 'state', 'john', 'f', 'said...   \n",
       "3  ['king', 'november', 'lesson', 'tonight', 'los...   \n",
       "4  ['primary', 'day', 'new', 'york', 'hillary', '...   \n",
       "\n",
       "                                           processed  \n",
       "0  daniel journalism fellow freedom center new yo...  \n",
       "1  google print delicious pocket there two fundam...  \n",
       "2  u secretary state john f said monday stop pari...  \n",
       "3  king november lesson tonight loss time democra...  \n",
       "4  primary day new york hillary clinton trump lea...  "
      ]
     },
     "execution_count": 4,
     "metadata": {},
     "output_type": "execute_result"
    }
   ],
   "source": [
    "data.head()"
   ]
  },
  {
   "cell_type": "code",
   "execution_count": 7,
   "metadata": {},
   "outputs": [
    {
     "data": {
      "text/html": [
       "<div>\n",
       "<style scoped>\n",
       "    .dataframe tbody tr th:only-of-type {\n",
       "        vertical-align: middle;\n",
       "    }\n",
       "\n",
       "    .dataframe tbody tr th {\n",
       "        vertical-align: top;\n",
       "    }\n",
       "\n",
       "    .dataframe thead th {\n",
       "        text-align: right;\n",
       "    }\n",
       "</style>\n",
       "<table border=\"1\" class=\"dataframe\">\n",
       "  <thead>\n",
       "    <tr style=\"text-align: right;\">\n",
       "      <th></th>\n",
       "      <th>Unnamed: 0</th>\n",
       "      <th>title</th>\n",
       "      <th>text</th>\n",
       "      <th>label</th>\n",
       "      <th>length</th>\n",
       "      <th>Text_Words</th>\n",
       "      <th>lemmed_words</th>\n",
       "      <th>processed</th>\n",
       "      <th>label_numeric</th>\n",
       "    </tr>\n",
       "  </thead>\n",
       "  <tbody>\n",
       "    <tr>\n",
       "      <th>0</th>\n",
       "      <td>8476</td>\n",
       "      <td>You Can Smell Hillary’s Fear</td>\n",
       "      <td>daniel greenfield shillman journalism fellow f...</td>\n",
       "      <td>FAKE</td>\n",
       "      <td>7518</td>\n",
       "      <td>['daniel', 'journalism', 'fellow', 'freedom', ...</td>\n",
       "      <td>['daniel', 'journalism', 'fellow', 'freedom', ...</td>\n",
       "      <td>daniel journalism fellow freedom center new yo...</td>\n",
       "      <td>0</td>\n",
       "    </tr>\n",
       "    <tr>\n",
       "      <th>1</th>\n",
       "      <td>10294</td>\n",
       "      <td>Watch The Exact Moment Paul Ryan Committed Pol...</td>\n",
       "      <td>google pinterest digg linkedin reddit stumbleu...</td>\n",
       "      <td>FAKE</td>\n",
       "      <td>2646</td>\n",
       "      <td>['google', 'print', 'delicious', 'pocket', 'th...</td>\n",
       "      <td>['google', 'print', 'delicious', 'pocket', 'th...</td>\n",
       "      <td>google print delicious pocket there two fundam...</td>\n",
       "      <td>0</td>\n",
       "    </tr>\n",
       "    <tr>\n",
       "      <th>2</th>\n",
       "      <td>3608</td>\n",
       "      <td>Kerry to go to Paris in gesture of sympathy</td>\n",
       "      <td>us secretary state john f kerry said monday st...</td>\n",
       "      <td>REAL</td>\n",
       "      <td>2543</td>\n",
       "      <td>['us', 'secretary', 'state', 'john', 'f', 'sai...</td>\n",
       "      <td>['u', 'secretary', 'state', 'john', 'f', 'said...</td>\n",
       "      <td>u secretary state john f said monday stop pari...</td>\n",
       "      <td>1</td>\n",
       "    </tr>\n",
       "    <tr>\n",
       "      <th>3</th>\n",
       "      <td>10142</td>\n",
       "      <td>Bernie supporters on Twitter erupt in anger ag...</td>\n",
       "      <td>— kaydee king kaydeeking november 9 2016 lesso...</td>\n",
       "      <td>FAKE</td>\n",
       "      <td>2660</td>\n",
       "      <td>['king', 'november', 'lesson', 'tonights', 'lo...</td>\n",
       "      <td>['king', 'november', 'lesson', 'tonight', 'los...</td>\n",
       "      <td>king november lesson tonight loss time democra...</td>\n",
       "      <td>0</td>\n",
       "    </tr>\n",
       "    <tr>\n",
       "      <th>4</th>\n",
       "      <td>875</td>\n",
       "      <td>The Battle of New York: Why This Primary Matters</td>\n",
       "      <td>primary day new york frontrunners hillary clin...</td>\n",
       "      <td>REAL</td>\n",
       "      <td>1840</td>\n",
       "      <td>['primary', 'day', 'new', 'york', 'hillary', '...</td>\n",
       "      <td>['primary', 'day', 'new', 'york', 'hillary', '...</td>\n",
       "      <td>primary day new york hillary clinton trump lea...</td>\n",
       "      <td>1</td>\n",
       "    </tr>\n",
       "    <tr>\n",
       "      <th>...</th>\n",
       "      <td>...</td>\n",
       "      <td>...</td>\n",
       "      <td>...</td>\n",
       "      <td>...</td>\n",
       "      <td>...</td>\n",
       "      <td>...</td>\n",
       "      <td>...</td>\n",
       "      <td>...</td>\n",
       "      <td>...</td>\n",
       "    </tr>\n",
       "    <tr>\n",
       "      <th>6329</th>\n",
       "      <td>8737</td>\n",
       "      <td>Assange claims ‘crazed’ Clinton campaign tried...</td>\n",
       "      <td>julian assange claimed hillary clinton campaig...</td>\n",
       "      <td>FAKE</td>\n",
       "      <td>2572</td>\n",
       "      <td>['julian', 'claimed', 'hillary', 'clinton', 'c...</td>\n",
       "      <td>['julian', 'claimed', 'hillary', 'clinton', 'c...</td>\n",
       "      <td>julian claimed hillary clinton campaign attack...</td>\n",
       "      <td>0</td>\n",
       "    </tr>\n",
       "    <tr>\n",
       "      <th>6330</th>\n",
       "      <td>4490</td>\n",
       "      <td>State Department says it can't find emails fro...</td>\n",
       "      <td>state department told republican national comm...</td>\n",
       "      <td>REAL</td>\n",
       "      <td>4076</td>\n",
       "      <td>['state', 'department', 'told', 'republican', ...</td>\n",
       "      <td>['state', 'department', 'told', 'republican', ...</td>\n",
       "      <td>state department told republican national comm...</td>\n",
       "      <td>1</td>\n",
       "    </tr>\n",
       "    <tr>\n",
       "      <th>6331</th>\n",
       "      <td>8062</td>\n",
       "      <td>The ‘P’ in PBS Should Stand for ‘Plutocratic’ ...</td>\n",
       "      <td>‘p’ pbs stand ‘plutocratic’ ‘pentagon’ posted ...</td>\n",
       "      <td>FAKE</td>\n",
       "      <td>14323</td>\n",
       "      <td>['p', 'pbs', 'stand', 'plutocratic', 'pentagon...</td>\n",
       "      <td>['p', 'pb', 'stand', 'plutocratic', 'pentagon'...</td>\n",
       "      <td>p pb stand plutocratic pentagon posted oct in ...</td>\n",
       "      <td>0</td>\n",
       "    </tr>\n",
       "    <tr>\n",
       "      <th>6332</th>\n",
       "      <td>8622</td>\n",
       "      <td>Anti-Trump Protesters Are Tools of the Oligarc...</td>\n",
       "      <td>antitrump protesters tools oligarchy reform a...</td>\n",
       "      <td>FAKE</td>\n",
       "      <td>11974</td>\n",
       "      <td>['protesters', 'tools', 'oligarchy', 'always',...</td>\n",
       "      <td>['protester', 'tool', 'oligarchy', 'always', '...</td>\n",
       "      <td>protester tool oligarchy always provokes rage ...</td>\n",
       "      <td>0</td>\n",
       "    </tr>\n",
       "    <tr>\n",
       "      <th>6333</th>\n",
       "      <td>4021</td>\n",
       "      <td>In Ethiopia, Obama seeks progress on peace, se...</td>\n",
       "      <td>addis ababa ethiopia —president obama convened...</td>\n",
       "      <td>REAL</td>\n",
       "      <td>6991</td>\n",
       "      <td>['ethiopia', 'convened', 'meeting', 'leaders',...</td>\n",
       "      <td>['ethiopia', 'convened', 'meeting', 'leader', ...</td>\n",
       "      <td>ethiopia convened meeting leader several east ...</td>\n",
       "      <td>1</td>\n",
       "    </tr>\n",
       "  </tbody>\n",
       "</table>\n",
       "<p>6334 rows × 9 columns</p>\n",
       "</div>"
      ],
      "text/plain": [
       "      Unnamed: 0                                              title  \\\n",
       "0           8476                       You Can Smell Hillary’s Fear   \n",
       "1          10294  Watch The Exact Moment Paul Ryan Committed Pol...   \n",
       "2           3608        Kerry to go to Paris in gesture of sympathy   \n",
       "3          10142  Bernie supporters on Twitter erupt in anger ag...   \n",
       "4            875   The Battle of New York: Why This Primary Matters   \n",
       "...          ...                                                ...   \n",
       "6329        8737  Assange claims ‘crazed’ Clinton campaign tried...   \n",
       "6330        4490  State Department says it can't find emails fro...   \n",
       "6331        8062  The ‘P’ in PBS Should Stand for ‘Plutocratic’ ...   \n",
       "6332        8622  Anti-Trump Protesters Are Tools of the Oligarc...   \n",
       "6333        4021  In Ethiopia, Obama seeks progress on peace, se...   \n",
       "\n",
       "                                                   text label  length  \\\n",
       "0     daniel greenfield shillman journalism fellow f...  FAKE    7518   \n",
       "1     google pinterest digg linkedin reddit stumbleu...  FAKE    2646   \n",
       "2     us secretary state john f kerry said monday st...  REAL    2543   \n",
       "3     — kaydee king kaydeeking november 9 2016 lesso...  FAKE    2660   \n",
       "4     primary day new york frontrunners hillary clin...  REAL    1840   \n",
       "...                                                 ...   ...     ...   \n",
       "6329  julian assange claimed hillary clinton campaig...  FAKE    2572   \n",
       "6330  state department told republican national comm...  REAL    4076   \n",
       "6331  ‘p’ pbs stand ‘plutocratic’ ‘pentagon’ posted ...  FAKE   14323   \n",
       "6332  antitrump protesters tools oligarchy reform a...  FAKE   11974   \n",
       "6333  addis ababa ethiopia —president obama convened...  REAL    6991   \n",
       "\n",
       "                                             Text_Words  \\\n",
       "0     ['daniel', 'journalism', 'fellow', 'freedom', ...   \n",
       "1     ['google', 'print', 'delicious', 'pocket', 'th...   \n",
       "2     ['us', 'secretary', 'state', 'john', 'f', 'sai...   \n",
       "3     ['king', 'november', 'lesson', 'tonights', 'lo...   \n",
       "4     ['primary', 'day', 'new', 'york', 'hillary', '...   \n",
       "...                                                 ...   \n",
       "6329  ['julian', 'claimed', 'hillary', 'clinton', 'c...   \n",
       "6330  ['state', 'department', 'told', 'republican', ...   \n",
       "6331  ['p', 'pbs', 'stand', 'plutocratic', 'pentagon...   \n",
       "6332  ['protesters', 'tools', 'oligarchy', 'always',...   \n",
       "6333  ['ethiopia', 'convened', 'meeting', 'leaders',...   \n",
       "\n",
       "                                           lemmed_words  \\\n",
       "0     ['daniel', 'journalism', 'fellow', 'freedom', ...   \n",
       "1     ['google', 'print', 'delicious', 'pocket', 'th...   \n",
       "2     ['u', 'secretary', 'state', 'john', 'f', 'said...   \n",
       "3     ['king', 'november', 'lesson', 'tonight', 'los...   \n",
       "4     ['primary', 'day', 'new', 'york', 'hillary', '...   \n",
       "...                                                 ...   \n",
       "6329  ['julian', 'claimed', 'hillary', 'clinton', 'c...   \n",
       "6330  ['state', 'department', 'told', 'republican', ...   \n",
       "6331  ['p', 'pb', 'stand', 'plutocratic', 'pentagon'...   \n",
       "6332  ['protester', 'tool', 'oligarchy', 'always', '...   \n",
       "6333  ['ethiopia', 'convened', 'meeting', 'leader', ...   \n",
       "\n",
       "                                              processed  label_numeric  \n",
       "0     daniel journalism fellow freedom center new yo...              0  \n",
       "1     google print delicious pocket there two fundam...              0  \n",
       "2     u secretary state john f said monday stop pari...              1  \n",
       "3     king november lesson tonight loss time democra...              0  \n",
       "4     primary day new york hillary clinton trump lea...              1  \n",
       "...                                                 ...            ...  \n",
       "6329  julian claimed hillary clinton campaign attack...              0  \n",
       "6330  state department told republican national comm...              1  \n",
       "6331  p pb stand plutocratic pentagon posted oct in ...              0  \n",
       "6332  protester tool oligarchy always provokes rage ...              0  \n",
       "6333  ethiopia convened meeting leader several east ...              1  \n",
       "\n",
       "[6334 rows x 9 columns]"
      ]
     },
     "execution_count": 7,
     "metadata": {},
     "output_type": "execute_result"
    }
   ],
   "source": [
    "data['label_numeric'] = data['label'].replace({'FAKE': 0, 'REAL': 1})\n",
    "data['processed'] = data['processed'].astype('str')\n",
    "data.head(-1)"
   ]
  },
  {
   "cell_type": "code",
   "execution_count": 9,
   "metadata": {
    "colab": {
     "base_uri": "https://localhost:8080/",
     "height": 184
    },
    "id": "9ECfRi-DD5Ha",
    "outputId": "e30c0c0b-c94d-4b52-edb4-0d04f66acb92"
   },
   "outputs": [
    {
     "name": "stdout",
     "output_type": "stream",
     "text": [
      "Found 33786 unique tokens.\n",
      "[[3534  630  277 ...   20  314 1517]\n",
      " [   0    0    0 ... 2458  679  533]\n",
      " [   0    0    0 ...  891  408 5449]\n",
      " ...\n",
      " [3412   77  116 ...  339   41  227]\n",
      " [   6 4068  573 ...  393 1622  901]\n",
      " [   0    0    0 ...    2 9712 5790]]\n",
      "Shape of data tensor: (6335, 9)\n",
      "Shape of label tensor: (6335, 2)\n"
     ]
    }
   ],
   "source": [
    "from keras.preprocessing.text import Tokenizer\n",
    "from keras.preprocessing.sequence import pad_sequences\n",
    "import numpy as np\n",
    "maxlen = 500\n",
    "max_words = 33786\n",
    "tokenizer = Tokenizer(num_words=max_words)\n",
    "tokenizer.fit_on_texts(data['processed'])\n",
    "sequences = tokenizer.texts_to_sequences(data['processed'])\n",
    "word_index = tokenizer.word_index\n",
    "print('Found %s unique tokens.' % len(word_index))\n",
    "data1 = pad_sequences(sequences, maxlen=maxlen)\n",
    "print(data1)\n",
    "def to_one_hot(labels, dimension=2):\n",
    "    results = np.zeros((len(labels), dimension))\n",
    "    for i, label in enumerate(labels):\n",
    "        results[i, label] = 1.\n",
    "    return results\n",
    "one_hot_labels = to_one_hot(data['label_numeric'])\n",
    "labels = np.asarray(one_hot_labels)\n",
    "print('Shape of data tensor:', data.shape)\n",
    "print('Shape of label tensor:', labels.shape)\n",
    "indices = np.arange(data1.shape[0])\n",
    "np.random.shuffle(indices)\n",
    "data1 = data1[indices]\n",
    "labels = labels[indices]\n",
    "\"\"\"x_train = data1[:training_samples]\n",
    "y_train = labels[:training_samples]\n",
    "x_val = data1[training_samples: training_samples + validation_samples]\n",
    "y_val = labels[training_samples: training_samples + validation_samples]\n",
    "x_test = data1[validation_samples: validation_samples + test_samples]\n",
    "y_test = labels[validation_samples: validation_samples + test_samples]\"\"\"\n",
    "\n",
    "from sklearn.model_selection import train_test_split\n",
    "\n",
    "X_train, X_test, y_train, y_test = train_test_split(data1, labels, test_size=0.2, random_state=42)\n",
    "#X_train, X_val, y_train, y_val = train_test_split(X_train, y_train, test_size=0.03, random_state=0)"
   ]
  },
  {
   "cell_type": "code",
   "execution_count": 11,
   "metadata": {
    "colab": {
     "base_uri": "https://localhost:8080/",
     "height": 120
    },
    "id": "tM3aPY0DLkC9",
    "outputId": "ad3254fb-bfc1-4876-8ca6-f54b07240c30"
   },
   "outputs": [
    {
     "name": "stderr",
     "output_type": "stream",
     "text": [
      "2021-03-04 15:04:44,065 : INFO : loading projection weights from wiki.en1.bin\n"
     ]
    },
    {
     "name": "stdout",
     "output_type": "stream",
     "text": [
      "loading word2vec model…\n"
     ]
    },
    {
     "name": "stderr",
     "output_type": "stream",
     "text": [
      "2021-03-04 15:05:11,629 : INFO : loaded (2519370, 300) matrix from wiki.en1.bin\n"
     ]
    }
   ],
   "source": [
    "from gensim.models.keyedvectors import KeyedVectors\n",
    "import logging\n",
    "\n",
    "logging.basicConfig(format='%(asctime)s : %(levelname)s : %(message)s', level=logging.INFO)\n",
    "print('loading word2vec model…')\n",
    "\n",
    "word2vec_model = KeyedVectors.load_word2vec_format('wiki.en1.bin', binary=True)\n",
    "def getVector(str):\n",
    "    if str in word2vec_model:\n",
    "        return word2vec_model[str]\n",
    "    else:\n",
    "        return None;\n",
    "\n",
    "def isInModel(str):\n",
    "    return str in word2vec_model"
   ]
  },
  {
   "cell_type": "code",
   "execution_count": 12,
   "metadata": {
    "id": "gQ34iUnXJgFI"
   },
   "outputs": [],
   "source": [
    "embedding_dim = 300\n",
    "embedding_matrix = np.zeros((max_words, embedding_dim))\n",
    "for word, i in tokenizer.word_index.items():\n",
    "    if i < max_words:\n",
    "        embedding_vector = getVector(word)\n",
    "        if embedding_vector is not None:\n",
    "            embedding_matrix[i] = embedding_vector"
   ]
  },
  {
   "cell_type": "code",
   "execution_count": 26,
   "metadata": {
    "colab": {
     "base_uri": "https://localhost:8080/",
     "height": 438
    },
    "id": "bDSrIflKZ2cJ",
    "outputId": "3ac9a92b-e5dd-4997-81b4-f4d38c5162db"
   },
   "outputs": [
    {
     "name": "stdout",
     "output_type": "stream",
     "text": [
      "Model: \"sequential_4\"\n",
      "_________________________________________________________________\n",
      "Layer (type)                 Output Shape              Param #   \n",
      "=================================================================\n",
      "embedding_4 (Embedding)      (None, 500, 300)          10135800  \n",
      "_________________________________________________________________\n",
      "lstm_4 (LSTM)                (None, 32)                42624     \n",
      "_________________________________________________________________\n",
      "dense_4 (Dense)              (None, 2)                 66        \n",
      "=================================================================\n",
      "Total params: 10,178,490\n",
      "Trainable params: 42,690\n",
      "Non-trainable params: 10,135,800\n",
      "_________________________________________________________________\n",
      "Train on 4814 samples, validate on 254 samples\n",
      "Epoch 1/40\n",
      "4814/4814 [==============================] - 83s 17ms/step - loss: 0.5616 - acc: 0.6946 - val_loss: 0.4473 - val_acc: 0.8031\n",
      "Epoch 2/40\n",
      "4814/4814 [==============================] - 74s 15ms/step - loss: 0.4636 - acc: 0.7794 - val_loss: 0.4116 - val_acc: 0.8228\n",
      "Epoch 3/40\n",
      "4814/4814 [==============================] - 73s 15ms/step - loss: 0.4268 - acc: 0.7964 - val_loss: 0.3885 - val_acc: 0.8465\n",
      "Epoch 4/40\n",
      "4814/4814 [==============================] - 74s 15ms/step - loss: 0.3925 - acc: 0.8162 - val_loss: 0.3886 - val_acc: 0.8425\n",
      "Epoch 5/40\n",
      "4814/4814 [==============================] - 78s 16ms/step - loss: 0.3508 - acc: 0.8421 - val_loss: 0.3480 - val_acc: 0.8543\n",
      "Epoch 6/40\n",
      "4814/4814 [==============================] - 72s 15ms/step - loss: 0.2983 - acc: 0.8706 - val_loss: 0.3466 - val_acc: 0.8740\n",
      "Epoch 7/40\n",
      "4814/4814 [==============================] - 82s 17ms/step - loss: 0.2865 - acc: 0.8795 - val_loss: 0.2974 - val_acc: 0.8858\n",
      "Epoch 8/40\n",
      "4814/4814 [==============================] - 76s 16ms/step - loss: 0.2347 - acc: 0.9020 - val_loss: 0.3120 - val_acc: 0.8898\n",
      "Epoch 9/40\n",
      "4814/4814 [==============================] - 82s 17ms/step - loss: 0.2050 - acc: 0.9142 - val_loss: 0.2868 - val_acc: 0.9055\n",
      "Epoch 10/40\n",
      "4814/4814 [==============================] - 74s 15ms/step - loss: 0.1823 - acc: 0.9267 - val_loss: 0.3207 - val_acc: 0.8740\n",
      "Epoch 11/40\n",
      "4814/4814 [==============================] - 79s 16ms/step - loss: 0.1684 - acc: 0.9342 - val_loss: 0.2895 - val_acc: 0.9016\n",
      "Epoch 12/40\n",
      "4814/4814 [==============================] - 79s 16ms/step - loss: 0.1500 - acc: 0.9398 - val_loss: 0.2717 - val_acc: 0.9055\n",
      "Epoch 13/40\n",
      "4814/4814 [==============================] - 77s 16ms/step - loss: 0.1338 - acc: 0.9497 - val_loss: 0.2877 - val_acc: 0.8937\n",
      "Epoch 14/40\n",
      "4814/4814 [==============================] - 76s 16ms/step - loss: 0.1231 - acc: 0.9526 - val_loss: 0.3210 - val_acc: 0.8976\n",
      "Epoch 15/40\n",
      "4814/4814 [==============================] - 72s 15ms/step - loss: 0.0913 - acc: 0.9643 - val_loss: 0.2905 - val_acc: 0.9016\n",
      "Epoch 16/40\n",
      "4814/4814 [==============================] - 69s 14ms/step - loss: 0.0903 - acc: 0.9668 - val_loss: 0.2733 - val_acc: 0.9094\n",
      "Epoch 17/40\n",
      "4814/4814 [==============================] - 69s 14ms/step - loss: 0.0797 - acc: 0.9715 - val_loss: 0.2723 - val_acc: 0.8976\n",
      "Epoch 18/40\n",
      "4814/4814 [==============================] - 69s 14ms/step - loss: 0.0748 - acc: 0.9715 - val_loss: 0.2869 - val_acc: 0.9055\n",
      "Epoch 19/40\n",
      "4814/4814 [==============================] - 71s 15ms/step - loss: 0.0658 - acc: 0.9761 - val_loss: 0.3441 - val_acc: 0.8898\n"
     ]
    }
   ],
   "source": [
    "from keras.models import Sequential\n",
    "from keras.layers import Embedding, Flatten, Dense, Dropout\n",
    "from keras.layers import Embedding, LSTM\n",
    "from keras import regularizers\n",
    "from keras.callbacks import EarlyStopping\n",
    "from keras.utils import to_categorical\n",
    "from keras.callbacks import ModelCheckpoint\n",
    "\n",
    "\n",
    "model = Sequential()\n",
    "model.add(Embedding(max_words, embedding_dim, input_length=maxlen))\n",
    "model.add(LSTM(32,dropout=0.2,\n",
    "recurrent_dropout=0.2))\n",
    "model.add(Dense(2, activation='softmax'))\n",
    "model.layers[0].set_weights([embedding_matrix])\n",
    "model.layers[0].trainable = False\n",
    "model.summary()\n",
    "model.compile(optimizer='adam',\n",
    "loss='categorical_crossentropy',\n",
    "metrics=['acc'])\n",
    "history = model.fit(X_train, y_train,\n",
    "epochs=40,\n",
    "batch_size=8,\n",
    "validation_split=0.05, callbacks=[EarlyStopping(monitor='val_loss',patience=7, min_delta=0.0001)])"
   ]
  },
  {
   "cell_type": "code",
   "execution_count": 27,
   "metadata": {},
   "outputs": [
    {
     "data": {
      "image/png": "[encoded data removed]",
      "text/plain": [
       "<Figure size 432x288 with 1 Axes>"
      ]
     },
     "metadata": {},
     "output_type": "display_data"
    }
   ],
   "source": [
    "import seaborn as sns\n",
    "import pandas as pd\n",
    "import matplotlib.pyplot as plt\n",
    "\n",
    "df = pd.DataFrame({'epochs':history.epoch, 'accuracy': history.history['acc'], 'validation_accuracy': history.history['val_acc']})\n",
    "g = sns.pointplot(x=\"epochs\", y=\"accuracy\", data=df, fit_reg=False)\n",
    "g = sns.pointplot(x=\"epochs\", y=\"validation_accuracy\", data=df, fit_reg=False, color='green')\n",
    "model.save_weights('lstm_model_wiki.h5')"
   ]
  },
  {
   "cell_type": "code",
   "execution_count": 28,
   "metadata": {
    "colab": {
     "base_uri": "https://localhost:8080/",
     "height": 67
    },
    "id": "kXQ_mudoaD15",
    "outputId": "a10027f9-1d61-4043-c710-44480ba85922"
   },
   "outputs": [
    {
     "name": "stdout",
     "output_type": "stream",
     "text": [
      "['loss', 'acc']\n",
      "1267/1267 [==============================] - 3s 2ms/step\n"
     ]
    },
    {
     "data": {
      "text/plain": [
       "[0.31235347454154594, 0.8879242539405823]"
      ]
     },
     "execution_count": 28,
     "metadata": {},
     "output_type": "execute_result"
    }
   ],
   "source": [
    "model.load_weights('lstm_model_wiki.h5')\n",
    "print(model.metrics_names)\n",
    "model.evaluate(X_test, y_test)"
   ]
  },
  {
   "cell_type": "code",
   "execution_count": 29,
   "metadata": {
    "colab": {
     "base_uri": "https://localhost:8080/",
     "height": 167
    },
    "id": "UjSeyeWvJzlJ",
    "outputId": "d5231dc6-95c1-42fd-e974-098e59699fab"
   },
   "outputs": [
    {
     "name": "stdout",
     "output_type": "stream",
     "text": [
      "              precision    recall  f1-score   support\n",
      "\n",
      "           0       0.87      0.92      0.89       649\n",
      "           1       0.91      0.85      0.88       618\n",
      "\n",
      "    accuracy                           0.89      1267\n",
      "   macro avg       0.89      0.89      0.89      1267\n",
      "weighted avg       0.89      0.89      0.89      1267\n",
      "\n"
     ]
    }
   ],
   "source": [
    "predictions = model.predict(X_test)\n",
    "\n",
    "from sklearn.metrics import classification_report\n",
    "print(classification_report(y_test.argmax(axis=1), predictions.argmax(axis=1)))"
   ]
  },
  {
   "cell_type": "code",
   "execution_count": 30,
   "metadata": {
    "colab": {
     "base_uri": "https://localhost:8080/",
     "height": 682
    },
    "id": "WVJatvubJ5RT",
    "outputId": "73a4640e-d68d-463a-a4b7-31c225fe9424"
   },
   "outputs": [
    {
     "data": {
      "image/png": "[encoded data removed]",
      "text/plain": [
       "<Figure size 1080x720 with 2 Axes>"
      ]
     },
     "metadata": {},
     "output_type": "display_data"
    }
   ],
   "source": [
    "from sklearn.metrics import confusion_matrix\n",
    "from mlxtend.plotting import plot_confusion_matrix\n",
    "\n",
    "labels = ['FAKE', 'REAL']\n",
    "cm = confusion_matrix(y_test.argmax(axis=1), predictions.argmax(axis=1))\n",
    "df_cm = pd.DataFrame(cm, labels, labels)\n",
    "plt.figure(figsize=(15,10))\n",
    "sn.set(font_scale=1.4) # for label size\n",
    "sn.heatmap(df_cm, annot=True, annot_kws={\"size\": 25, \"weight\":\"bold\"}, cmap='Blues', fmt='d') # font size\n",
    "plt.title('Confusion Matrix(Test Set: 20%)')\n",
    "plt.xlabel('Predicted')\n",
    "plt.ylabel('Actual')\n",
    "plt.show()"
   ]
  },
  {
   "cell_type": "code",
   "execution_count": 31,
   "metadata": {
    "colab": {
     "base_uri": "https://localhost:8080/",
     "height": 435
    },
    "id": "ayot-oPHnEr4",
    "outputId": "6a016858-4821-4a25-b0cf-da2ed57932f6"
   },
   "outputs": [
    {
     "name": "stdout",
     "output_type": "stream",
     "text": [
      "Model: \"sequential_5\"\n",
      "_________________________________________________________________\n",
      "Layer (type)                 Output Shape              Param #   \n",
      "=================================================================\n",
      "embedding_5 (Embedding)      (None, 500, 300)          10135800  \n",
      "_________________________________________________________________\n",
      "simple_rnn_1 (SimpleRNN)     (None, 32)                10656     \n",
      "_________________________________________________________________\n",
      "dense_5 (Dense)              (None, 2)                 66        \n",
      "=================================================================\n",
      "Total params: 10,146,522\n",
      "Trainable params: 10,722\n",
      "Non-trainable params: 10,135,800\n",
      "_________________________________________________________________\n",
      "Train on 4814 samples, validate on 254 samples\n",
      "Epoch 1/40\n",
      "4814/4814 [==============================] - 47s 10ms/step - loss: nan - acc: 0.4971 - val_loss: nan - val_acc: 0.4843\n",
      "Epoch 2/40\n",
      "4814/4814 [==============================] - 47s 10ms/step - loss: nan - acc: 0.4969 - val_loss: nan - val_acc: 0.4843\n",
      "Epoch 3/40\n",
      "4814/4814 [==============================] - 49s 10ms/step - loss: nan - acc: 0.4969 - val_loss: nan - val_acc: 0.4843\n",
      "Epoch 4/40\n",
      "4814/4814 [==============================] - 55s 11ms/step - loss: nan - acc: 0.4969 - val_loss: nan - val_acc: 0.4843\n",
      "Epoch 5/40\n",
      "4814/4814 [==============================] - 49s 10ms/step - loss: nan - acc: 0.4969 - val_loss: nan - val_acc: 0.4843\n",
      "Epoch 6/40\n",
      "4814/4814 [==============================] - 49s 10ms/step - loss: nan - acc: 0.4969 - val_loss: nan - val_acc: 0.4843\n",
      "Epoch 7/40\n",
      "4814/4814 [==============================] - 60s 12ms/step - loss: nan - acc: 0.4969 - val_loss: nan - val_acc: 0.4843\n",
      "Epoch 8/40\n",
      "4814/4814 [==============================] - 44s 9ms/step - loss: nan - acc: 0.4969 - val_loss: nan - val_acc: 0.4843\n",
      "Epoch 9/40\n",
      "4814/4814 [==============================] - 55s 11ms/step - loss: nan - acc: 0.4969 - val_loss: nan - val_acc: 0.4843\n",
      "Epoch 10/40\n",
      "4814/4814 [==============================] - 45s 9ms/step - loss: nan - acc: 0.4969 - val_loss: nan - val_acc: 0.4843\n",
      "Epoch 11/40\n",
      "4814/4814 [==============================] - 50s 10ms/step - loss: nan - acc: 0.4969 - val_loss: nan - val_acc: 0.4843\n",
      "Epoch 12/40\n",
      "4814/4814 [==============================] - 52s 11ms/step - loss: nan - acc: 0.4969 - val_loss: nan - val_acc: 0.4843\n",
      "Epoch 13/40\n",
      "4814/4814 [==============================] - 53s 11ms/step - loss: nan - acc: 0.4969 - val_loss: nan - val_acc: 0.4843\n",
      "Epoch 14/40\n",
      "4814/4814 [==============================] - 56s 12ms/step - loss: nan - acc: 0.4969 - val_loss: nan - val_acc: 0.4843\n",
      "Epoch 15/40\n",
      "1368/4814 [=======>......................] - ETA: 46s - loss: nan - acc: 0.5037"
     ]
    },
    {
     "ename": "KeyboardInterrupt",
     "evalue": "",
     "output_type": "error",
     "traceback": [
      "\u001b[0;31m---------------------------------------------------------------------------\u001b[0m",
      "\u001b[0;31mKeyboardInterrupt\u001b[0m                         Traceback (most recent call last)",
      "\u001b[0;32m<ipython-input-31-6aef7836b640>\u001b[0m in \u001b[0;36m<module>\u001b[0;34m\u001b[0m\n\u001b[1;32m     18\u001b[0m \u001b[0mepochs\u001b[0m\u001b[0;34m=\u001b[0m\u001b[0;36m40\u001b[0m\u001b[0;34m,\u001b[0m\u001b[0;34m\u001b[0m\u001b[0;34m\u001b[0m\u001b[0m\n\u001b[1;32m     19\u001b[0m \u001b[0mbatch_size\u001b[0m\u001b[0;34m=\u001b[0m\u001b[0;36m8\u001b[0m\u001b[0;34m,\u001b[0m\u001b[0;34m\u001b[0m\u001b[0;34m\u001b[0m\u001b[0m\n\u001b[0;32m---> 20\u001b[0;31m validation_split=0.05)\n\u001b[0m\u001b[1;32m     21\u001b[0m \u001b[0;32mimport\u001b[0m \u001b[0mseaborn\u001b[0m \u001b[0;32mas\u001b[0m \u001b[0msns\u001b[0m\u001b[0;34m\u001b[0m\u001b[0;34m\u001b[0m\u001b[0m\n\u001b[1;32m     22\u001b[0m \u001b[0;32mimport\u001b[0m \u001b[0mpandas\u001b[0m \u001b[0;32mas\u001b[0m \u001b[0mpd\u001b[0m\u001b[0;34m\u001b[0m\u001b[0;34m\u001b[0m\u001b[0m\n",
      "\u001b[0;32m~/opt/anaconda3/envs/webapp1/lib/python3.6/site-packages/keras/engine/training.py\u001b[0m in \u001b[0;36mfit\u001b[0;34m(self, x, y, batch_size, epochs, verbose, callbacks, validation_split, validation_data, shuffle, class_weight, sample_weight, initial_epoch, steps_per_epoch, validation_steps, validation_freq, max_queue_size, workers, use_multiprocessing, **kwargs)\u001b[0m\n\u001b[1;32m   1237\u001b[0m                                         \u001b[0msteps_per_epoch\u001b[0m\u001b[0;34m=\u001b[0m\u001b[0msteps_per_epoch\u001b[0m\u001b[0;34m,\u001b[0m\u001b[0;34m\u001b[0m\u001b[0;34m\u001b[0m\u001b[0m\n\u001b[1;32m   1238\u001b[0m                                         \u001b[0mvalidation_steps\u001b[0m\u001b[0;34m=\u001b[0m\u001b[0mvalidation_steps\u001b[0m\u001b[0;34m,\u001b[0m\u001b[0;34m\u001b[0m\u001b[0;34m\u001b[0m\u001b[0m\n\u001b[0;32m-> 1239\u001b[0;31m                                         validation_freq=validation_freq)\n\u001b[0m\u001b[1;32m   1240\u001b[0m \u001b[0;34m\u001b[0m\u001b[0m\n\u001b[1;32m   1241\u001b[0m     def evaluate(self,\n",
      "\u001b[0;32m~/opt/anaconda3/envs/webapp1/lib/python3.6/site-packages/keras/engine/training_arrays.py\u001b[0m in \u001b[0;36mfit_loop\u001b[0;34m(model, fit_function, fit_inputs, out_labels, batch_size, epochs, verbose, callbacks, val_function, val_inputs, shuffle, initial_epoch, steps_per_epoch, validation_steps, validation_freq)\u001b[0m\n\u001b[1;32m    194\u001b[0m                     \u001b[0mins_batch\u001b[0m\u001b[0;34m[\u001b[0m\u001b[0mi\u001b[0m\u001b[0;34m]\u001b[0m \u001b[0;34m=\u001b[0m \u001b[0mins_batch\u001b[0m\u001b[0;34m[\u001b[0m\u001b[0mi\u001b[0m\u001b[0;34m]\u001b[0m\u001b[0;34m.\u001b[0m\u001b[0mtoarray\u001b[0m\u001b[0;34m(\u001b[0m\u001b[0;34m)\u001b[0m\u001b[0;34m\u001b[0m\u001b[0;34m\u001b[0m\u001b[0m\n\u001b[1;32m    195\u001b[0m \u001b[0;34m\u001b[0m\u001b[0m\n\u001b[0;32m--> 196\u001b[0;31m                 \u001b[0mouts\u001b[0m \u001b[0;34m=\u001b[0m \u001b[0mfit_function\u001b[0m\u001b[0;34m(\u001b[0m\u001b[0mins_batch\u001b[0m\u001b[0;34m)\u001b[0m\u001b[0;34m\u001b[0m\u001b[0;34m\u001b[0m\u001b[0m\n\u001b[0m\u001b[1;32m    197\u001b[0m                 \u001b[0mouts\u001b[0m \u001b[0;34m=\u001b[0m \u001b[0mto_list\u001b[0m\u001b[0;34m(\u001b[0m\u001b[0mouts\u001b[0m\u001b[0;34m)\u001b[0m\u001b[0;34m\u001b[0m\u001b[0;34m\u001b[0m\u001b[0m\n\u001b[1;32m    198\u001b[0m                 \u001b[0;32mfor\u001b[0m \u001b[0ml\u001b[0m\u001b[0;34m,\u001b[0m \u001b[0mo\u001b[0m \u001b[0;32min\u001b[0m \u001b[0mzip\u001b[0m\u001b[0;34m(\u001b[0m\u001b[0mout_labels\u001b[0m\u001b[0;34m,\u001b[0m \u001b[0mouts\u001b[0m\u001b[0;34m)\u001b[0m\u001b[0;34m:\u001b[0m\u001b[0;34m\u001b[0m\u001b[0;34m\u001b[0m\u001b[0m\n",
      "\u001b[0;32m~/opt/anaconda3/envs/webapp1/lib/python3.6/site-packages/tensorflow_core/python/keras/backend.py\u001b[0m in \u001b[0;36m__call__\u001b[0;34m(self, inputs)\u001b[0m\n\u001b[1;32m   3474\u001b[0m \u001b[0;34m\u001b[0m\u001b[0m\n\u001b[1;32m   3475\u001b[0m     fetched = self._callable_fn(*array_vals,\n\u001b[0;32m-> 3476\u001b[0;31m                                 run_metadata=self.run_metadata)\n\u001b[0m\u001b[1;32m   3477\u001b[0m     \u001b[0mself\u001b[0m\u001b[0;34m.\u001b[0m\u001b[0m_call_fetch_callbacks\u001b[0m\u001b[0;34m(\u001b[0m\u001b[0mfetched\u001b[0m\u001b[0;34m[\u001b[0m\u001b[0;34m-\u001b[0m\u001b[0mlen\u001b[0m\u001b[0;34m(\u001b[0m\u001b[0mself\u001b[0m\u001b[0;34m.\u001b[0m\u001b[0m_fetches\u001b[0m\u001b[0;34m)\u001b[0m\u001b[0;34m:\u001b[0m\u001b[0;34m]\u001b[0m\u001b[0;34m)\u001b[0m\u001b[0;34m\u001b[0m\u001b[0;34m\u001b[0m\u001b[0m\n\u001b[1;32m   3478\u001b[0m     output_structure = nest.pack_sequence_as(\n",
      "\u001b[0;32m~/opt/anaconda3/envs/webapp1/lib/python3.6/site-packages/tensorflow_core/python/client/session.py\u001b[0m in \u001b[0;36m__call__\u001b[0;34m(self, *args, **kwargs)\u001b[0m\n\u001b[1;32m   1470\u001b[0m         ret = tf_session.TF_SessionRunCallable(self._session._session,\n\u001b[1;32m   1471\u001b[0m                                                \u001b[0mself\u001b[0m\u001b[0;34m.\u001b[0m\u001b[0m_handle\u001b[0m\u001b[0;34m,\u001b[0m \u001b[0margs\u001b[0m\u001b[0;34m,\u001b[0m\u001b[0;34m\u001b[0m\u001b[0;34m\u001b[0m\u001b[0m\n\u001b[0;32m-> 1472\u001b[0;31m                                                run_metadata_ptr)\n\u001b[0m\u001b[1;32m   1473\u001b[0m         \u001b[0;32mif\u001b[0m \u001b[0mrun_metadata\u001b[0m\u001b[0;34m:\u001b[0m\u001b[0;34m\u001b[0m\u001b[0;34m\u001b[0m\u001b[0m\n\u001b[1;32m   1474\u001b[0m           \u001b[0mproto_data\u001b[0m \u001b[0;34m=\u001b[0m \u001b[0mtf_session\u001b[0m\u001b[0;34m.\u001b[0m\u001b[0mTF_GetBuffer\u001b[0m\u001b[0;34m(\u001b[0m\u001b[0mrun_metadata_ptr\u001b[0m\u001b[0;34m)\u001b[0m\u001b[0;34m\u001b[0m\u001b[0;34m\u001b[0m\u001b[0m\n",
      "\u001b[0;31mKeyboardInterrupt\u001b[0m: "
     ]
    }
   ],
   "source": [
    "from keras.models import Sequential\n",
    "from keras.layers import Embedding, Flatten, Dense, Dropout\n",
    "from keras.layers import Embedding, SimpleRNN\n",
    "from keras import regularizers\n",
    "\n",
    "model = Sequential()\n",
    "model.add(Embedding(max_words, embedding_dim, input_length=maxlen))\n",
    "model.add(SimpleRNN(32,dropout=0.2,\n",
    "recurrent_dropout=0.2))\n",
    "model.add(Dense(2, activation='softmax'))\n",
    "model.layers[0].set_weights([embedding_matrix])\n",
    "model.layers[0].trainable = False\n",
    "model.summary()\n",
    "model.compile(optimizer='adam',\n",
    "loss='categorical_crossentropy',\n",
    "metrics=['acc'])\n",
    "history = model.fit(X_train, y_train,\n",
    "epochs=40,\n",
    "batch_size=8,\n",
    "validation_split=0.05)\n",
    "import seaborn as sns\n",
    "import pandas as pd\n",
    "import matplotlib.pyplot as plt\n",
    "\n",
    "df = pd.DataFrame({'epochs':history.epoch, 'accuracy': history.history['acc'], 'validation_accuracy': history.history['val_acc']})\n",
    "g = sns.pointplot(x=\"epochs\", y=\"accuracy\", data=df, fit_reg=False)\n",
    "g = sns.pointplot(x=\"epochs\", y=\"validation_accuracy\", data=df, fit_reg=False, color='green')\n",
    "model.save_weights('rnn_model_wiki.h5')\n",
    "model.load_weights('rnn_model_wiki.h5')\n",
    "print(model.metrics_names)\n",
    "model.evaluate(X_test, y_test)"
   ]
  },
  {
   "cell_type": "code",
   "execution_count": 32,
   "metadata": {
    "colab": {
     "base_uri": "https://localhost:8080/",
     "height": 167
    },
    "id": "BOUdop63ZdBi",
    "outputId": "2937acf3-63b0-4608-f80f-2faa09801366"
   },
   "outputs": [
    {
     "name": "stdout",
     "output_type": "stream",
     "text": [
      "              precision    recall  f1-score   support\n",
      "\n",
      "           0       0.51      1.00      0.68       649\n",
      "           1       0.00      0.00      0.00       618\n",
      "\n",
      "    accuracy                           0.51      1267\n",
      "   macro avg       0.26      0.50      0.34      1267\n",
      "weighted avg       0.26      0.51      0.35      1267\n",
      "\n"
     ]
    },
    {
     "name": "stderr",
     "output_type": "stream",
     "text": [
      "/Users/sarangshaikh/opt/anaconda3/envs/webapp1/lib/python3.6/site-packages/sklearn/metrics/_classification.py:1221: UndefinedMetricWarning: Precision and F-score are ill-defined and being set to 0.0 in labels with no predicted samples. Use `zero_division` parameter to control this behavior.\n",
      "  _warn_prf(average, modifier, msg_start, len(result))\n"
     ]
    }
   ],
   "source": [
    "predictions = model.predict(X_test)\n",
    "\n",
    "from sklearn.metrics import classification_report\n",
    "print(classification_report(y_test.argmax(axis=1), predictions.argmax(axis=1)))"
   ]
  },
  {
   "cell_type": "code",
   "execution_count": 33,
   "metadata": {
    "colab": {
     "base_uri": "https://localhost:8080/",
     "height": 682
    },
    "id": "z6wClwXIZdBz",
    "outputId": "3fb3669f-453d-4bf7-ff43-2b4c4ee1a4b2"
   },
   "outputs": [
    {
     "data": {
      "image/png": "[encoded data removed]",
      "text/plain": [
       "<Figure size 1080x720 with 2 Axes>"
      ]
     },
     "metadata": {},
     "output_type": "display_data"
    }
   ],
   "source": [
    "from sklearn.metrics import confusion_matrix\n",
    "from mlxtend.plotting import plot_confusion_matrix\n",
    "\n",
    "labels = ['FAKE', 'REAL']\n",
    "cm = confusion_matrix(y_test.argmax(axis=1), predictions.argmax(axis=1))\n",
    "df_cm = pd.DataFrame(cm, labels, labels)\n",
    "plt.figure(figsize=(15,10))\n",
    "sn.set(font_scale=1.4) # for label size\n",
    "sn.heatmap(df_cm, annot=True, annot_kws={\"size\": 25, \"weight\":\"bold\"}, cmap='Blues', fmt='d') # font size\n",
    "plt.title('Confusion Matrix(Test Set: 20%)')\n",
    "plt.xlabel('Predicted')\n",
    "plt.ylabel('Actual')\n",
    "plt.show()"
   ]
  },
  {
   "cell_type": "code",
   "execution_count": 34,
   "metadata": {
    "colab": {
     "base_uri": "https://localhost:8080/",
     "height": 435
    },
    "id": "sxBDbVc6nPTy",
    "outputId": "9876a3a1-fe4c-405c-ddb7-a0f0f36401dc"
   },
   "outputs": [
    {
     "name": "stdout",
     "output_type": "stream",
     "text": [
      "Model: \"sequential_6\"\n",
      "_________________________________________________________________\n",
      "Layer (type)                 Output Shape              Param #   \n",
      "=================================================================\n",
      "embedding_6 (Embedding)      (None, 500, 300)          10135800  \n",
      "_________________________________________________________________\n",
      "bidirectional_1 (Bidirection (None, 64)                85248     \n",
      "_________________________________________________________________\n",
      "dense_6 (Dense)              (None, 2)                 130       \n",
      "=================================================================\n",
      "Total params: 10,221,178\n",
      "Trainable params: 85,378\n",
      "Non-trainable params: 10,135,800\n",
      "_________________________________________________________________\n",
      "Train on 4814 samples, validate on 254 samples\n",
      "Epoch 1/40\n",
      "4814/4814 [==============================] - 104s 22ms/step - loss: 0.5609 - acc: 0.7111 - val_loss: 0.4681 - val_acc: 0.8150\n",
      "Epoch 2/40\n",
      "4814/4814 [==============================] - 103s 21ms/step - loss: 0.4703 - acc: 0.7730 - val_loss: 0.4538 - val_acc: 0.7913\n",
      "Epoch 3/40\n",
      "4814/4814 [==============================] - 94s 20ms/step - loss: 0.4133 - acc: 0.8076 - val_loss: 0.4286 - val_acc: 0.7953\n",
      "Epoch 4/40\n",
      "4814/4814 [==============================] - 96s 20ms/step - loss: 0.3806 - acc: 0.8253 - val_loss: 0.3656 - val_acc: 0.8346\n",
      "Epoch 5/40\n",
      "4814/4814 [==============================] - 93s 19ms/step - loss: 0.3233 - acc: 0.8529 - val_loss: 0.3608 - val_acc: 0.8425\n",
      "Epoch 6/40\n",
      "4814/4814 [==============================] - 94s 19ms/step - loss: 0.2903 - acc: 0.8756 - val_loss: 0.3179 - val_acc: 0.8780\n",
      "Epoch 7/40\n",
      "4814/4814 [==============================] - 101s 21ms/step - loss: 0.2362 - acc: 0.9007 - val_loss: 0.3040 - val_acc: 0.8819\n",
      "Epoch 8/40\n",
      "4814/4814 [==============================] - 102s 21ms/step - loss: 0.2102 - acc: 0.9111 - val_loss: 0.3207 - val_acc: 0.8740\n",
      "Epoch 9/40\n",
      "4814/4814 [==============================] - 95s 20ms/step - loss: 0.1797 - acc: 0.9271 - val_loss: 0.2927 - val_acc: 0.8858\n",
      "Epoch 10/40\n",
      "4814/4814 [==============================] - 96s 20ms/step - loss: 0.1493 - acc: 0.9410 - val_loss: 0.2998 - val_acc: 0.8976\n",
      "Epoch 11/40\n",
      "4814/4814 [==============================] - 99s 21ms/step - loss: 0.1252 - acc: 0.9537 - val_loss: 0.3236 - val_acc: 0.8858\n",
      "Epoch 12/40\n",
      "4814/4814 [==============================] - 100s 21ms/step - loss: 0.1102 - acc: 0.9560 - val_loss: 0.3169 - val_acc: 0.9055\n",
      "Epoch 13/40\n",
      "4814/4814 [==============================] - 104s 22ms/step - loss: 0.0956 - acc: 0.9609 - val_loss: 0.3234 - val_acc: 0.9134\n",
      "Epoch 14/40\n",
      "4814/4814 [==============================] - 100s 21ms/step - loss: 0.0804 - acc: 0.9711 - val_loss: 0.3298 - val_acc: 0.9094\n",
      "Epoch 15/40\n",
      "4814/4814 [==============================] - 100s 21ms/step - loss: 0.0709 - acc: 0.9753 - val_loss: 0.3373 - val_acc: 0.8780\n",
      "Epoch 16/40\n",
      "4814/4814 [==============================] - 99s 20ms/step - loss: 0.0640 - acc: 0.9776 - val_loss: 0.4107 - val_acc: 0.8740\n",
      "Epoch 17/40\n",
      "4814/4814 [==============================] - 94s 19ms/step - loss: 0.0549 - acc: 0.9815 - val_loss: 0.3765 - val_acc: 0.9016\n",
      "Epoch 18/40\n",
      "4814/4814 [==============================] - 93s 19ms/step - loss: 0.0467 - acc: 0.9834 - val_loss: 0.3502 - val_acc: 0.9134\n",
      "Epoch 19/40\n",
      "4814/4814 [==============================] - 95s 20ms/step - loss: 0.0396 - acc: 0.9865 - val_loss: 0.3836 - val_acc: 0.8976\n",
      "Epoch 20/40\n",
      "4814/4814 [==============================] - 94s 19ms/step - loss: 0.0373 - acc: 0.9882 - val_loss: 0.4540 - val_acc: 0.8937\n",
      "Epoch 21/40\n",
      "4814/4814 [==============================] - 94s 20ms/step - loss: 0.0316 - acc: 0.9915 - val_loss: 0.3870 - val_acc: 0.8937\n",
      "Epoch 22/40\n",
      "4814/4814 [==============================] - 95s 20ms/step - loss: 0.0358 - acc: 0.9886 - val_loss: 0.4172 - val_acc: 0.8976\n",
      "Epoch 23/40\n",
      "4814/4814 [==============================] - 97s 20ms/step - loss: 0.0270 - acc: 0.9919 - val_loss: 0.3772 - val_acc: 0.9134\n",
      "Epoch 24/40\n",
      "4814/4814 [==============================] - 96s 20ms/step - loss: 0.0252 - acc: 0.9938 - val_loss: 0.3965 - val_acc: 0.8976\n",
      "Epoch 25/40\n",
      "4814/4814 [==============================] - 98s 20ms/step - loss: 0.0194 - acc: 0.9950 - val_loss: 0.4280 - val_acc: 0.9173\n",
      "Epoch 26/40\n",
      "4814/4814 [==============================] - 97s 20ms/step - loss: 0.0225 - acc: 0.9942 - val_loss: 0.4072 - val_acc: 0.8858\n",
      "Epoch 27/40\n",
      "4814/4814 [==============================] - 98s 20ms/step - loss: 0.0221 - acc: 0.9927 - val_loss: 0.4543 - val_acc: 0.9173\n",
      "Epoch 28/40\n",
      "4814/4814 [==============================] - 96s 20ms/step - loss: 0.0185 - acc: 0.9948 - val_loss: 0.4206 - val_acc: 0.8898\n",
      "Epoch 29/40\n",
      "4814/4814 [==============================] - 96s 20ms/step - loss: 0.0122 - acc: 0.9969 - val_loss: 0.4276 - val_acc: 0.8976\n",
      "Epoch 30/40\n",
      "4814/4814 [==============================] - 97s 20ms/step - loss: 0.0193 - acc: 0.9948 - val_loss: 0.4373 - val_acc: 0.8976\n",
      "Epoch 31/40\n",
      " 272/4814 [>.............................] - ETA: 1:33 - loss: 0.0124 - acc: 0.9963"
     ]
    },
    {
     "ename": "KeyboardInterrupt",
     "evalue": "",
     "output_type": "error",
     "traceback": [
      "\u001b[0;31m---------------------------------------------------------------------------\u001b[0m",
      "\u001b[0;31mKeyboardInterrupt\u001b[0m                         Traceback (most recent call last)",
      "\u001b[0;32m<ipython-input-34-ec922a1f0e42>\u001b[0m in \u001b[0;36m<module>\u001b[0;34m\u001b[0m\n\u001b[1;32m     18\u001b[0m \u001b[0mepochs\u001b[0m\u001b[0;34m=\u001b[0m\u001b[0;36m40\u001b[0m\u001b[0;34m,\u001b[0m\u001b[0;34m\u001b[0m\u001b[0;34m\u001b[0m\u001b[0m\n\u001b[1;32m     19\u001b[0m \u001b[0mbatch_size\u001b[0m\u001b[0;34m=\u001b[0m\u001b[0;36m8\u001b[0m\u001b[0;34m,\u001b[0m\u001b[0;34m\u001b[0m\u001b[0;34m\u001b[0m\u001b[0m\n\u001b[0;32m---> 20\u001b[0;31m validation_split=0.05)\n\u001b[0m\u001b[1;32m     21\u001b[0m \u001b[0mdf\u001b[0m \u001b[0;34m=\u001b[0m \u001b[0mpd\u001b[0m\u001b[0;34m.\u001b[0m\u001b[0mDataFrame\u001b[0m\u001b[0;34m(\u001b[0m\u001b[0;34m{\u001b[0m\u001b[0;34m'epochs'\u001b[0m\u001b[0;34m:\u001b[0m\u001b[0mhistory\u001b[0m\u001b[0;34m.\u001b[0m\u001b[0mepoch\u001b[0m\u001b[0;34m,\u001b[0m \u001b[0;34m'accuracy'\u001b[0m\u001b[0;34m:\u001b[0m \u001b[0mhistory\u001b[0m\u001b[0;34m.\u001b[0m\u001b[0mhistory\u001b[0m\u001b[0;34m[\u001b[0m\u001b[0;34m'acc'\u001b[0m\u001b[0;34m]\u001b[0m\u001b[0;34m,\u001b[0m \u001b[0;34m'validation_accuracy'\u001b[0m\u001b[0;34m:\u001b[0m \u001b[0mhistory\u001b[0m\u001b[0;34m.\u001b[0m\u001b[0mhistory\u001b[0m\u001b[0;34m[\u001b[0m\u001b[0;34m'val_acc'\u001b[0m\u001b[0;34m]\u001b[0m\u001b[0;34m}\u001b[0m\u001b[0;34m)\u001b[0m\u001b[0;34m\u001b[0m\u001b[0;34m\u001b[0m\u001b[0m\n\u001b[1;32m     22\u001b[0m \u001b[0mg\u001b[0m \u001b[0;34m=\u001b[0m \u001b[0msns\u001b[0m\u001b[0;34m.\u001b[0m\u001b[0mpointplot\u001b[0m\u001b[0;34m(\u001b[0m\u001b[0mx\u001b[0m\u001b[0;34m=\u001b[0m\u001b[0;34m\"epochs\"\u001b[0m\u001b[0;34m,\u001b[0m \u001b[0my\u001b[0m\u001b[0;34m=\u001b[0m\u001b[0;34m\"accuracy\"\u001b[0m\u001b[0;34m,\u001b[0m \u001b[0mdata\u001b[0m\u001b[0;34m=\u001b[0m\u001b[0mdf\u001b[0m\u001b[0;34m,\u001b[0m \u001b[0mfit_reg\u001b[0m\u001b[0;34m=\u001b[0m\u001b[0;32mFalse\u001b[0m\u001b[0;34m)\u001b[0m\u001b[0;34m\u001b[0m\u001b[0;34m\u001b[0m\u001b[0m\n",
      "\u001b[0;32m~/opt/anaconda3/envs/webapp1/lib/python3.6/site-packages/keras/engine/training.py\u001b[0m in \u001b[0;36mfit\u001b[0;34m(self, x, y, batch_size, epochs, verbose, callbacks, validation_split, validation_data, shuffle, class_weight, sample_weight, initial_epoch, steps_per_epoch, validation_steps, validation_freq, max_queue_size, workers, use_multiprocessing, **kwargs)\u001b[0m\n\u001b[1;32m   1237\u001b[0m                                         \u001b[0msteps_per_epoch\u001b[0m\u001b[0;34m=\u001b[0m\u001b[0msteps_per_epoch\u001b[0m\u001b[0;34m,\u001b[0m\u001b[0;34m\u001b[0m\u001b[0;34m\u001b[0m\u001b[0m\n\u001b[1;32m   1238\u001b[0m                                         \u001b[0mvalidation_steps\u001b[0m\u001b[0;34m=\u001b[0m\u001b[0mvalidation_steps\u001b[0m\u001b[0;34m,\u001b[0m\u001b[0;34m\u001b[0m\u001b[0;34m\u001b[0m\u001b[0m\n\u001b[0;32m-> 1239\u001b[0;31m                                         validation_freq=validation_freq)\n\u001b[0m\u001b[1;32m   1240\u001b[0m \u001b[0;34m\u001b[0m\u001b[0m\n\u001b[1;32m   1241\u001b[0m     def evaluate(self,\n",
      "\u001b[0;32m~/opt/anaconda3/envs/webapp1/lib/python3.6/site-packages/keras/engine/training_arrays.py\u001b[0m in \u001b[0;36mfit_loop\u001b[0;34m(model, fit_function, fit_inputs, out_labels, batch_size, epochs, verbose, callbacks, val_function, val_inputs, shuffle, initial_epoch, steps_per_epoch, validation_steps, validation_freq)\u001b[0m\n\u001b[1;32m    194\u001b[0m                     \u001b[0mins_batch\u001b[0m\u001b[0;34m[\u001b[0m\u001b[0mi\u001b[0m\u001b[0;34m]\u001b[0m \u001b[0;34m=\u001b[0m \u001b[0mins_batch\u001b[0m\u001b[0;34m[\u001b[0m\u001b[0mi\u001b[0m\u001b[0;34m]\u001b[0m\u001b[0;34m.\u001b[0m\u001b[0mtoarray\u001b[0m\u001b[0;34m(\u001b[0m\u001b[0;34m)\u001b[0m\u001b[0;34m\u001b[0m\u001b[0;34m\u001b[0m\u001b[0m\n\u001b[1;32m    195\u001b[0m \u001b[0;34m\u001b[0m\u001b[0m\n\u001b[0;32m--> 196\u001b[0;31m                 \u001b[0mouts\u001b[0m \u001b[0;34m=\u001b[0m \u001b[0mfit_function\u001b[0m\u001b[0;34m(\u001b[0m\u001b[0mins_batch\u001b[0m\u001b[0;34m)\u001b[0m\u001b[0;34m\u001b[0m\u001b[0;34m\u001b[0m\u001b[0m\n\u001b[0m\u001b[1;32m    197\u001b[0m                 \u001b[0mouts\u001b[0m \u001b[0;34m=\u001b[0m \u001b[0mto_list\u001b[0m\u001b[0;34m(\u001b[0m\u001b[0mouts\u001b[0m\u001b[0;34m)\u001b[0m\u001b[0;34m\u001b[0m\u001b[0;34m\u001b[0m\u001b[0m\n\u001b[1;32m    198\u001b[0m                 \u001b[0;32mfor\u001b[0m \u001b[0ml\u001b[0m\u001b[0;34m,\u001b[0m \u001b[0mo\u001b[0m \u001b[0;32min\u001b[0m \u001b[0mzip\u001b[0m\u001b[0;34m(\u001b[0m\u001b[0mout_labels\u001b[0m\u001b[0;34m,\u001b[0m \u001b[0mouts\u001b[0m\u001b[0;34m)\u001b[0m\u001b[0;34m:\u001b[0m\u001b[0;34m\u001b[0m\u001b[0;34m\u001b[0m\u001b[0m\n",
      "\u001b[0;32m~/opt/anaconda3/envs/webapp1/lib/python3.6/site-packages/tensorflow_core/python/keras/backend.py\u001b[0m in \u001b[0;36m__call__\u001b[0;34m(self, inputs)\u001b[0m\n\u001b[1;32m   3474\u001b[0m \u001b[0;34m\u001b[0m\u001b[0m\n\u001b[1;32m   3475\u001b[0m     fetched = self._callable_fn(*array_vals,\n\u001b[0;32m-> 3476\u001b[0;31m                                 run_metadata=self.run_metadata)\n\u001b[0m\u001b[1;32m   3477\u001b[0m     \u001b[0mself\u001b[0m\u001b[0;34m.\u001b[0m\u001b[0m_call_fetch_callbacks\u001b[0m\u001b[0;34m(\u001b[0m\u001b[0mfetched\u001b[0m\u001b[0;34m[\u001b[0m\u001b[0;34m-\u001b[0m\u001b[0mlen\u001b[0m\u001b[0;34m(\u001b[0m\u001b[0mself\u001b[0m\u001b[0;34m.\u001b[0m\u001b[0m_fetches\u001b[0m\u001b[0;34m)\u001b[0m\u001b[0;34m:\u001b[0m\u001b[0;34m]\u001b[0m\u001b[0;34m)\u001b[0m\u001b[0;34m\u001b[0m\u001b[0;34m\u001b[0m\u001b[0m\n\u001b[1;32m   3478\u001b[0m     output_structure = nest.pack_sequence_as(\n",
      "\u001b[0;32m~/opt/anaconda3/envs/webapp1/lib/python3.6/site-packages/tensorflow_core/python/client/session.py\u001b[0m in \u001b[0;36m__call__\u001b[0;34m(self, *args, **kwargs)\u001b[0m\n\u001b[1;32m   1470\u001b[0m         ret = tf_session.TF_SessionRunCallable(self._session._session,\n\u001b[1;32m   1471\u001b[0m                                                \u001b[0mself\u001b[0m\u001b[0;34m.\u001b[0m\u001b[0m_handle\u001b[0m\u001b[0;34m,\u001b[0m \u001b[0margs\u001b[0m\u001b[0;34m,\u001b[0m\u001b[0;34m\u001b[0m\u001b[0;34m\u001b[0m\u001b[0m\n\u001b[0;32m-> 1472\u001b[0;31m                                                run_metadata_ptr)\n\u001b[0m\u001b[1;32m   1473\u001b[0m         \u001b[0;32mif\u001b[0m \u001b[0mrun_metadata\u001b[0m\u001b[0;34m:\u001b[0m\u001b[0;34m\u001b[0m\u001b[0;34m\u001b[0m\u001b[0m\n\u001b[1;32m   1474\u001b[0m           \u001b[0mproto_data\u001b[0m \u001b[0;34m=\u001b[0m \u001b[0mtf_session\u001b[0m\u001b[0;34m.\u001b[0m\u001b[0mTF_GetBuffer\u001b[0m\u001b[0;34m(\u001b[0m\u001b[0mrun_metadata_ptr\u001b[0m\u001b[0;34m)\u001b[0m\u001b[0;34m\u001b[0m\u001b[0;34m\u001b[0m\u001b[0m\n",
      "\u001b[0;31mKeyboardInterrupt\u001b[0m: "
     ]
    }
   ],
   "source": [
    "from keras.models import Sequential\n",
    "from keras.layers import Embedding, Flatten, Dense, Dropout\n",
    "from keras.layers import Embedding, Bidirectional, LSTM\n",
    "from keras import regularizers\n",
    "\n",
    "model = Sequential()\n",
    "model.add(Embedding(max_words, embedding_dim, input_length=maxlen))\n",
    "model.add(Bidirectional(LSTM(32,dropout=0.2,\n",
    "recurrent_dropout=0.2)))\n",
    "model.add(Dense(2, activation='softmax'))\n",
    "model.layers[0].set_weights([embedding_matrix])\n",
    "model.layers[0].trainable = False\n",
    "model.summary()\n",
    "model.compile(optimizer='adam',\n",
    "loss='categorical_crossentropy',\n",
    "metrics=['acc'])\n",
    "history = model.fit(X_train, y_train,\n",
    "epochs=40,\n",
    "batch_size=8,\n",
    "validation_split=0.05)\n",
    "df = pd.DataFrame({'epochs':history.epoch, 'accuracy': history.history['acc'], 'validation_accuracy': history.history['val_acc']})\n",
    "g = sns.pointplot(x=\"epochs\", y=\"accuracy\", data=df, fit_reg=False)\n",
    "g = sns.pointplot(x=\"epochs\", y=\"validation_accuracy\", data=df, fit_reg=False, color='green')\n",
    "model.save_weights('bilstm_model_wiki.h5')\n",
    "model.load_weights('bilstm_model_wiki.h5')\n",
    "print(model.metrics_names)\n",
    "model.evaluate(X_test, y_test)"
   ]
  },
  {
   "cell_type": "code",
   "execution_count": 35,
   "metadata": {
    "colab": {
     "base_uri": "https://localhost:8080/",
     "height": 167
    },
    "id": "LSmi05drZl6n",
    "outputId": "4ec856d3-5990-4a5f-a4cc-888a1ef3ff9d"
   },
   "outputs": [
    {
     "name": "stdout",
     "output_type": "stream",
     "text": [
      "              precision    recall  f1-score   support\n",
      "\n",
      "           0       0.93      0.86      0.90       649\n",
      "           1       0.87      0.93      0.90       618\n",
      "\n",
      "    accuracy                           0.90      1267\n",
      "   macro avg       0.90      0.90      0.90      1267\n",
      "weighted avg       0.90      0.90      0.90      1267\n",
      "\n"
     ]
    }
   ],
   "source": [
    "predictions = model.predict(X_test)\n",
    "\n",
    "from sklearn.metrics import classification_report\n",
    "print(classification_report(y_test.argmax(axis=1), predictions.argmax(axis=1)))"
   ]
  },
  {
   "cell_type": "code",
   "execution_count": 36,
   "metadata": {
    "colab": {
     "base_uri": "https://localhost:8080/",
     "height": 682
    },
    "id": "pP8iD4ZvZl6x",
    "outputId": "d141334d-a2c3-4c7f-9996-967304a81155"
   },
   "outputs": [
    {
     "data": {
      "image/png": "[encoded data removed]",
      "text/plain": [
       "<Figure size 1080x720 with 2 Axes>"
      ]
     },
     "metadata": {},
     "output_type": "display_data"
    }
   ],
   "source": [
    "from sklearn.metrics import confusion_matrix\n",
    "from mlxtend.plotting import plot_confusion_matrix\n",
    "\n",
    "labels = ['FAKE', 'REAL']\n",
    "cm = confusion_matrix(y_test.argmax(axis=1), predictions.argmax(axis=1))\n",
    "df_cm = pd.DataFrame(cm, labels, labels)\n",
    "plt.figure(figsize=(15,10))\n",
    "sn.set(font_scale=1.4) # for label size\n",
    "sn.heatmap(df_cm, annot=True, annot_kws={\"size\": 25, \"weight\":\"bold\"}, cmap='Blues', fmt='d') # font size\n",
    "plt.title('Confusion Matrix(Test Set: 20%)')\n",
    "plt.xlabel('Predicted')\n",
    "plt.ylabel('Actual')\n",
    "plt.show()"
   ]
  },
  {
   "cell_type": "code",
   "execution_count": null,
   "metadata": {
    "id": "RYeHe39RyK4Q"
   },
   "outputs": [],
   "source": []
  }
 ],
 "metadata": {
  "accelerator": "GPU",
  "colab": {
   "collapsed_sections": [],
   "name": " LSTM_FakeNews_Classification_(Wiki_Word_Vectors (2)_jruvika.ipynb",
   "provenance": []
  },
  "kernelspec": {
   "display_name": "Python 3",
   "language": "python",
   "name": "python3"
  },
  "language_info": {
   "codemirror_mode": {
    "name": "ipython",
    "version": 3
   },
   "file_extension": ".py",
   "mimetype": "text/x-python",
   "name": "python",
   "nbconvert_exporter": "python",
   "pygments_lexer": "ipython3",
   "version": "3.7.9"
  }
 },
 "nbformat": 4,
 "nbformat_minor": 1
}
